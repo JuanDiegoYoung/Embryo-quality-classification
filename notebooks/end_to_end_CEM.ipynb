{
 "cells": [
  {
   "cell_type": "markdown",
   "metadata": {},
   "source": [
    "# Libraries"
   ]
  },
  {
   "cell_type": "code",
   "execution_count": 3,
   "metadata": {},
   "outputs": [],
   "source": [
    "import pickle\n",
    "import numpy as np\n",
    "import matplotlib.pyplot as plt\n",
    "import torch\n",
    "import torchvision.transforms as T\n",
    "import cv2\n",
    "import os\n",
    "import torchvision.models as models\n",
    "import torch.optim as optim\n",
    "\n",
    "from tensorflow.keras.utils import array_to_img, img_to_array, load_img\n",
    "from torch.utils.data import Dataset, DataLoader, sampler\n",
    "from sklearn.model_selection import KFold  # K-Folds cross-validator for model evaluation\n",
    "from typing import Tuple, List, Union  # Typing for type hinting in function signatures\n",
    "\n"
   ]
  },
  {
   "cell_type": "markdown",
   "metadata": {},
   "source": [
    "# Functions"
   ]
  },
  {
   "cell_type": "code",
   "execution_count": 4,
   "metadata": {},
   "outputs": [],
   "source": [
    "def train_one_epoch(model : torch.nn.Module,\n",
    "                    optimizer : torch.optim.Optimizer,\n",
    "                    data_loader : torch.utils.data.DataLoader,\n",
    "                    device : str,\n",
    "                    dtype : type = torch.float32,\n",
    "                    scaler : torch.cuda.amp.GradScaler = None ) -> Tuple[float, float]:\n",
    "    \"\"\"\n",
    "    Trains the model for one epoch using the provided data_loader.\n",
    "\n",
    "    Args:\n",
    "    - model: The neural network model to be trained.\n",
    "    - optimizer: The optimizer used for training the model.\n",
    "    - data_loader: The data loader providing training data.\n",
    "    - device: The device on which the training will be performed (e.g., 'cpu' or 'cuda').\n",
    "    - dtype (torch.dtype, optional): The data type used for the tensors (default: torch.float32).\n",
    "    - scaler (torch.cuda.amp.GradScaler, optional): Gradient scaler for mixed precision training (default: None).\n",
    "\n",
    "    Returns:\n",
    "    - tuple: A tuple containing the average loss per sample and the accuracy for the epoch.\n",
    "    \"\"\"\n",
    "    model.train()\n",
    "    total_loss = 0.0\n",
    "    correct = 0\n",
    "    total_samples = 0\n",
    "\n",
    "    for x, y in tqdm(data_loader):\n",
    "        x, y = x.to(device=device, dtype=dtype), y.to(device=device, dtype=torch.long)\n",
    "        optimizer.zero_grad()\n",
    "        with autocast(enabled=(scaler is not None)):\n",
    "            scores = model(x)\n",
    "            loss = F.cross_entropy(scores, y)\n",
    "        if scaler is not None:\n",
    "            scaler.scale(loss).backward()\n",
    "            scaler.step(optimizer)\n",
    "            scaler.update()\n",
    "        else:\n",
    "            loss.backward()\n",
    "            optimizer.step()\n",
    "        total_loss += loss.item() * x.size(0)\n",
    "        _, predicted = scores.max(1)\n",
    "        correct += (predicted == y).sum().item()\n",
    "        total_samples += x.size(0)\n",
    "\n",
    "    return total_loss / total_samples, correct / total_samples\n",
    "\n",
    "\n",
    "def accuracy(loader: torch.utils.data.DataLoader,\n",
    "            model : torch.nn.Module,\n",
    "            device : str,\n",
    "            dtype : type = torch.float32) -> float:\n",
    "    \"\"\"\n",
    "    Calculates accuracy on a given data loader using the provided model.\n",
    "\n",
    "    Args:\n",
    "    - loader: The data loader to calculate accuracy on.\n",
    "    - model: The neural network model to evaluate.\n",
    "    - device: The device on which the evaluation will be performed (e.g., 'cpu' or 'cuda').\n",
    "    - dtype (torch.dtype, optional): The data type used for the tensors (default: torch.float32).\n",
    "\n",
    "    Returns:\n",
    "    - float: The accuracy of the model on the given data loader.\n",
    "    \"\"\"\n",
    "    print(f'Checking accuracy')\n",
    "\n",
    "    model.eval()\n",
    "    num_correct = 0\n",
    "    num_samples = 0\n",
    "\n",
    "    with torch.no_grad():\n",
    "        for x, y in loader:\n",
    "            x, y = x.to(device=device, dtype=dtype), y.to(device=device, dtype=torch.long)\n",
    "\n",
    "            scores = model(x)\n",
    "            _, preds = scores.max(1)\n",
    "            \n",
    "            num_correct += (preds == y).sum().item()\n",
    "            num_samples += preds.size(0)\n",
    "        \n",
    "        accuracy = num_correct / num_samples if num_samples > 0 else 0\n",
    "        print(f'Got {num_correct} / {num_samples} correct ({100 * accuracy:.2f}%)')\n",
    "    \n",
    "    return accuracy\n",
    "\n",
    "\n",
    "def get_pretrained_model(model_name: str) -> torch.nn.Module:\n",
    "    \"\"\"\n",
    "    Loads a pre-trained model based on the specified model name.\n",
    "\n",
    "    Args:\n",
    "    - model_name (str): The name of the pre-trained model ('vgg16', 'resnet50', 'inceptionv3', or 'mobilenetv2').\n",
    "\n",
    "    Returns:\n",
    "    - torch.nn.Module: The pre-trained model specified by the model_name.\n",
    "    \"\"\"\n",
    "    if model_name == 'vgg16':\n",
    "        model = models.vgg16(pretrained=True)\n",
    "    elif model_name == 'resnet50':\n",
    "        model = models.resnet50(pretrained=True)\n",
    "    elif model_name == 'inceptionv3':\n",
    "        model = models.inception_v3(pretrained=True)\n",
    "    else:\n",
    "        raise ValueError('Model not recognized. Choose from vgg16, resnet50, inceptionv3, or mobilenetv2')\n",
    "    \n",
    "    return model\n",
    "\n",
    "def convert(x):\n",
    "    if x=='A':\n",
    "        return 0\n",
    "    if x=='B':\n",
    "        return 1\n",
    "    if x=='C':\n",
    "        return 2"
   ]
  },
  {
   "cell_type": "markdown",
   "metadata": {},
   "source": [
    "# Load data"
   ]
  },
  {
   "cell_type": "markdown",
   "metadata": {},
   "source": [
    "## Load labels"
   ]
  },
  {
   "cell_type": "code",
   "execution_count": 5,
   "metadata": {},
   "outputs": [
    {
     "name": "stderr",
     "output_type": "stream",
     "text": [
      "/var/folders/3z/t4hm1r_x1rqdc2q4tp65rsy0gz8k2h/T/ipykernel_21285/4218594181.py:17: FutureWarning: Series.__getitem__ treating keys as positions is deprecated. In a future version, integer keys will always be treated as labels (consistent with DataFrame behavior). To access a value by position, use `ser.iloc[pos]`\n",
      "  label_ICM = convert(blast_information[str(i)][0][2][0])\n",
      "/var/folders/3z/t4hm1r_x1rqdc2q4tp65rsy0gz8k2h/T/ipykernel_21285/4218594181.py:18: FutureWarning: Series.__getitem__ treating keys as positions is deprecated. In a future version, integer keys will always be treated as labels (consistent with DataFrame behavior). To access a value by position, use `ser.iloc[pos]`\n",
      "  label_TE = convert(blast_information[str(i)][0][2][1])\n",
      "/var/folders/3z/t4hm1r_x1rqdc2q4tp65rsy0gz8k2h/T/ipykernel_21285/4218594181.py:19: FutureWarning: Series.__getitem__ treating keys as positions is deprecated. In a future version, integer keys will always be treated as labels (consistent with DataFrame behavior). To access a value by position, use `ser.iloc[pos]`\n",
      "  label_Exp = int(blast_information[str(i)][0][3])\n"
     ]
    }
   ],
   "source": [
    "directory = '../data/CEM_database/'\n",
    "\n",
    "with open(directory + 'blasts.pkl', 'rb') as f:\n",
    "    blast_information = pickle.load(f)\n",
    "\n",
    "n_data = len(blast_information)\n",
    "\n",
    "y_ICM = np.zeros(n_data, dtype=int)\n",
    "y_TE = np.zeros(n_data, dtype=int)\n",
    "y_Exp = np.zeros(n_data, dtype=int)\n",
    "\n",
    "y_ICM_letras = []\n",
    "y_TE_letras = []\n",
    "y_Exp_letras = []\n",
    "\n",
    "for i in np.arange(1,n_data-1):\n",
    "  label_ICM = convert(blast_information[str(i)][0][2][0])\n",
    "  label_TE = convert(blast_information[str(i)][0][2][1])\n",
    "  label_Exp = int(blast_information[str(i)][0][3])\n",
    "  label_Exp = label_Exp - 1\n",
    "\n",
    "  y_ICM[i] = label_ICM\n",
    "  y_TE[i] = label_TE\n",
    "  y_Exp[i] = label_Exp\n",
    "\n"
   ]
  },
  {
   "cell_type": "markdown",
   "metadata": {},
   "source": [
    "## Check class balance"
   ]
  },
  {
   "cell_type": "code",
   "execution_count": 6,
   "metadata": {},
   "outputs": [
    {
     "data": {
      "text/plain": [
       "(array([ 475., 1362., 1594., 1675.,  399.,   18.]),\n",
       " array([0., 1., 2., 3., 4., 5., 6.]),\n",
       " <BarContainer object of 6 artists>)"
      ]
     },
     "execution_count": 6,
     "metadata": {},
     "output_type": "execute_result"
    },
    {
     "data": {
      "image/png": "[encoded data removed]",
      "text/plain": [
       "<Figure size 1200x500 with 3 Axes>"
      ]
     },
     "metadata": {},
     "output_type": "display_data"
    }
   ],
   "source": [
    "fig, (ax1, ax2, ax3) = plt.subplots(1, 3, figsize=(12,5))\n",
    "ax1.hist(y_ICM,[0,1,2,3], rwidth=0.8)\n",
    "ax2.hist(y_TE,[0,1,2,3], rwidth=0.8)\n",
    "ax3.hist(y_Exp,[0,1,2,3,4,5,6], rwidth=0.8)"
   ]
  },
  {
   "cell_type": "markdown",
   "metadata": {},
   "source": [
    "# Creo el dataset"
   ]
  },
  {
   "cell_type": "code",
   "execution_count": 7,
   "metadata": {},
   "outputs": [],
   "source": [
    "class EmbryoDataset(Dataset):\n",
    "    def __init__(self, img_dir, labels, selected_images):\n",
    "        self.img_labels = labels  # Store the image labels\n",
    "        self.img_dir = img_dir  # Store the directory containing the images\n",
    "        self.selected_images = selected_images\n",
    "\n",
    "        # Define a series of image transformations using torchvision's Compose\n",
    "        self.transforms = T.Compose([T.ToPILImage(), \n",
    "                                T.Pad(100,padding_mode='reflect'), \n",
    "                                T.RandomHorizontalFlip(p=0.5), \n",
    "                                T.RandomRotation([0, 350], fill=100), \n",
    "                                T.CenterCrop(300), \n",
    "                                T.ToTensor()])\n",
    "    def __len__(self):\n",
    "        return len(self.img_labels)  # Return the total number of images in the dataset\n",
    "\n",
    "    def __getitem__(self, idx):\n",
    "        i = self.selected_images[idx]\n",
    "        img_path = os.path.join(self.img_dir, str(i)+'.jpg')\n",
    "        image = img_to_array(load_img(img_path))\n",
    "\n",
    "        image = np.uint8(image.squeeze())\n",
    "        image = cv2.resize(image, (300,300), interpolation = cv2.INTER_AREA)\n",
    "        label = self.img_labels[idx]\n",
    "        image = self.transforms(image)\n",
    "        \n",
    "        return image, label\n"
   ]
  },
  {
   "cell_type": "markdown",
   "metadata": {},
   "source": [
    "## Load high quality images"
   ]
  },
  {
   "cell_type": "code",
   "execution_count": 8,
   "metadata": {},
   "outputs": [],
   "source": [
    "selected_size = 1447200\n",
    "selected_index = []\n",
    "\n",
    "for i in np.arange(1,n_data+1):\n",
    "\n",
    "    img_path = os.path.join(directory, str(i)+'.jpg')\n",
    "    image = img_to_array(load_img(img_path))\n",
    "\n",
    "    if image.size == selected_size:\n",
    "        selected_index.append(i)"
   ]
  },
  {
   "cell_type": "markdown",
   "metadata": {},
   "source": [
    "## Create test y training datasets"
   ]
  },
  {
   "cell_type": "code",
   "execution_count": 9,
   "metadata": {},
   "outputs": [],
   "source": [
    "def create_dataloaders(labels, selected_index, train_index, val_index, batch_size=32):\n",
    "\n",
    "    dataset = EmbryoDataset(directory, labels, selected_index)   \n",
    "    # Divide los datos en conjunto de entrenamiento y validación para este pliegue\n",
    "    train_dataset = torch.utils.data.Subset(EmbryoDataset, train_index)\n",
    "    valid_dataset = torch.utils.data.Subset(EmbryoDataset, val_index)\n",
    "\n",
    "    y_train_indices = train_dataset.indices\n",
    "    y_train = [dataset.img_labels[i] for i in y_train_indices]\n",
    "    class_sample_count = np.array([len(np.where(y_train == t)[0]) for t in np.unique(y_train)])\n",
    "\n",
    "    weight = 1. / class_sample_count\n",
    "    samples_weight = np.array([weight[t] for t in y_train])\n",
    "    samples_weight = torch.from_numpy(samples_weight)\n",
    "\n",
    "    weighted_sampler = torch.utils.data.WeightedRandomSampler(samples_weight.type('torch.DoubleTensor'), len(samples_weight))\n",
    "\n",
    "    loader_train = DataLoader(train_dataset, batch_size=batch_size, sampler=weighted_sampler)\n",
    "    loader_val = DataLoader(valid_dataset, batch_size=batch_size, sampler=sampler.RandomSampler(valid_dataset))\n",
    "\n",
    "    return loader_train, loader_val\n"
   ]
  },
  {
   "cell_type": "markdown",
   "metadata": {},
   "source": [
    "# Training"
   ]
  },
  {
   "cell_type": "code",
   "execution_count": 10,
   "metadata": {},
   "outputs": [],
   "source": [
    "model_name = 'vgg16'  # Aquí elige el modelo que quieras utilizar\n",
    "\n",
    "# Define el número de pliegues para la validación cruzada\n",
    "num_folds = 10  # Por ejemplo, utiliza 10-fold cross-validation\n",
    "num_folds = 2  # O 2 para ir más rápido en la prueba\n",
    "\n",
    "# Definición de otros hiperparámetros\n",
    "learning_rate = 0.001\n",
    "batch_size = 16\n",
    "num_epochs = 2\n",
    "\n",
    "size2 = 1447200\n",
    "train_proportion = 0.8\n",
    "valid_proportion = 0.2\n",
    "\n",
    "labels = y_ICM"
   ]
  },
  {
   "cell_type": "code",
   "execution_count": 11,
   "metadata": {},
   "outputs": [
    {
     "name": "stderr",
     "output_type": "stream",
     "text": [
      "/Users/jyoung/anaconda3/envs/embryo_segmentation/lib/python3.10/site-packages/torchvision/models/_utils.py:208: UserWarning: The parameter 'pretrained' is deprecated since 0.13 and may be removed in the future, please use 'weights' instead.\n",
      "  warnings.warn(\n",
      "/Users/jyoung/anaconda3/envs/embryo_segmentation/lib/python3.10/site-packages/torchvision/models/_utils.py:223: UserWarning: Arguments other than a weight enum or `None` for 'weights' are deprecated since 0.13 and may be removed in the future. The current behavior is equivalent to passing `weights=VGG16_Weights.IMAGENET1K_V1`. You can also use `weights=VGG16_Weights.DEFAULT` to get the most up-to-date weights.\n",
      "  warnings.warn(msg)\n"
     ]
    },
    {
     "ename": "TypeError",
     "evalue": "Expected sequence or array-like, got <class 'type'>",
     "output_type": "error",
     "traceback": [
      "\u001b[0;31m---------------------------------------------------------------------------\u001b[0m",
      "\u001b[0;31mTypeError\u001b[0m                                 Traceback (most recent call last)",
      "File \u001b[0;32m~/anaconda3/envs/embryo_segmentation/lib/python3.10/site-packages/sklearn/utils/validation.py:354\u001b[0m, in \u001b[0;36m_num_samples\u001b[0;34m(x)\u001b[0m\n\u001b[1;32m    353\u001b[0m \u001b[39mtry\u001b[39;00m:\n\u001b[0;32m--> 354\u001b[0m     \u001b[39mreturn\u001b[39;00m \u001b[39mlen\u001b[39;49m(x)\n\u001b[1;32m    355\u001b[0m \u001b[39mexcept\u001b[39;00m \u001b[39mTypeError\u001b[39;00m \u001b[39mas\u001b[39;00m type_error:\n",
      "\u001b[0;31mTypeError\u001b[0m: object of type 'type' has no len()",
      "\nThe above exception was the direct cause of the following exception:\n",
      "\u001b[0;31mTypeError\u001b[0m                                 Traceback (most recent call last)",
      "\u001b[1;32m/Users/jyoung/Doctorado/embryo_classification/notebooks/end_to_end_CEM.ipynb Celda 18\u001b[0m line \u001b[0;36m1\n\u001b[1;32m     <a href='vscode-notebook-cell:/Users/jyoung/Doctorado/embryo_classification/notebooks/end_to_end_CEM.ipynb#X41sZmlsZQ%3D%3D?line=11'>12</a>\u001b[0m optimizer \u001b[39m=\u001b[39m optim\u001b[39m.\u001b[39mAdam(model\u001b[39m.\u001b[39mparameters(), lr\u001b[39m=\u001b[39mlearning_rate)\n\u001b[1;32m     <a href='vscode-notebook-cell:/Users/jyoung/Doctorado/embryo_classification/notebooks/end_to_end_CEM.ipynb#X41sZmlsZQ%3D%3D?line=13'>14</a>\u001b[0m \u001b[39m# Loop sobre los pliegues (folds)\u001b[39;00m\n\u001b[0;32m---> <a href='vscode-notebook-cell:/Users/jyoung/Doctorado/embryo_classification/notebooks/end_to_end_CEM.ipynb#X41sZmlsZQ%3D%3D?line=14'>15</a>\u001b[0m \u001b[39mfor\u001b[39;00m fold, (train_index, val_index) \u001b[39min\u001b[39;00m \u001b[39menumerate\u001b[39m(kf\u001b[39m.\u001b[39msplit(EmbryoDataset)):\n\u001b[1;32m     <a href='vscode-notebook-cell:/Users/jyoung/Doctorado/embryo_classification/notebooks/end_to_end_CEM.ipynb#X41sZmlsZQ%3D%3D?line=15'>16</a>\u001b[0m     \u001b[39mprint\u001b[39m(\u001b[39mf\u001b[39m\u001b[39m\"\u001b[39m\u001b[39mFold \u001b[39m\u001b[39m{\u001b[39;00mfold\u001b[39m \u001b[39m\u001b[39m+\u001b[39m\u001b[39m \u001b[39m\u001b[39m1\u001b[39m\u001b[39m}\u001b[39;00m\u001b[39m/\u001b[39m\u001b[39m{\u001b[39;00mnum_folds\u001b[39m}\u001b[39;00m\u001b[39m\"\u001b[39m)\n\u001b[1;32m     <a href='vscode-notebook-cell:/Users/jyoung/Doctorado/embryo_classification/notebooks/end_to_end_CEM.ipynb#X41sZmlsZQ%3D%3D?line=17'>18</a>\u001b[0m     loader_train, loader_val \u001b[39m=\u001b[39m create_dataloaders(labels, selected_index, train_index, val_index)\n",
      "File \u001b[0;32m~/anaconda3/envs/embryo_segmentation/lib/python3.10/site-packages/sklearn/model_selection/_split.py:367\u001b[0m, in \u001b[0;36m_BaseKFold.split\u001b[0;34m(self, X, y, groups)\u001b[0m\n\u001b[1;32m    343\u001b[0m \u001b[39mdef\u001b[39;00m \u001b[39msplit\u001b[39m(\u001b[39mself\u001b[39m, X, y\u001b[39m=\u001b[39m\u001b[39mNone\u001b[39;00m, groups\u001b[39m=\u001b[39m\u001b[39mNone\u001b[39;00m):\n\u001b[1;32m    344\u001b[0m \u001b[39m    \u001b[39m\u001b[39m\"\"\"Generate indices to split data into training and test set.\u001b[39;00m\n\u001b[1;32m    345\u001b[0m \n\u001b[1;32m    346\u001b[0m \u001b[39m    Parameters\u001b[39;00m\n\u001b[0;32m   (...)\u001b[0m\n\u001b[1;32m    365\u001b[0m \u001b[39m        The testing set indices for that split.\u001b[39;00m\n\u001b[1;32m    366\u001b[0m \u001b[39m    \"\"\"\u001b[39;00m\n\u001b[0;32m--> 367\u001b[0m     X, y, groups \u001b[39m=\u001b[39m indexable(X, y, groups)\n\u001b[1;32m    368\u001b[0m     n_samples \u001b[39m=\u001b[39m _num_samples(X)\n\u001b[1;32m    369\u001b[0m     \u001b[39mif\u001b[39;00m \u001b[39mself\u001b[39m\u001b[39m.\u001b[39mn_splits \u001b[39m>\u001b[39m n_samples:\n",
      "File \u001b[0;32m~/anaconda3/envs/embryo_segmentation/lib/python3.10/site-packages/sklearn/utils/validation.py:453\u001b[0m, in \u001b[0;36mindexable\u001b[0;34m(*iterables)\u001b[0m\n\u001b[1;32m    434\u001b[0m \u001b[39m\u001b[39m\u001b[39m\"\"\"Make arrays indexable for cross-validation.\u001b[39;00m\n\u001b[1;32m    435\u001b[0m \n\u001b[1;32m    436\u001b[0m \u001b[39mChecks consistent length, passes through None, and ensures that everything\u001b[39;00m\n\u001b[0;32m   (...)\u001b[0m\n\u001b[1;32m    449\u001b[0m \u001b[39m    sparse matrix, or dataframe) or `None`.\u001b[39;00m\n\u001b[1;32m    450\u001b[0m \u001b[39m\"\"\"\u001b[39;00m\n\u001b[1;32m    452\u001b[0m result \u001b[39m=\u001b[39m [_make_indexable(X) \u001b[39mfor\u001b[39;00m X \u001b[39min\u001b[39;00m iterables]\n\u001b[0;32m--> 453\u001b[0m check_consistent_length(\u001b[39m*\u001b[39;49mresult)\n\u001b[1;32m    454\u001b[0m \u001b[39mreturn\u001b[39;00m result\n",
      "File \u001b[0;32m~/anaconda3/envs/embryo_segmentation/lib/python3.10/site-packages/sklearn/utils/validation.py:404\u001b[0m, in \u001b[0;36mcheck_consistent_length\u001b[0;34m(*arrays)\u001b[0m\n\u001b[1;32m    393\u001b[0m \u001b[39mdef\u001b[39;00m \u001b[39mcheck_consistent_length\u001b[39m(\u001b[39m*\u001b[39marrays):\n\u001b[1;32m    394\u001b[0m \u001b[39m    \u001b[39m\u001b[39m\"\"\"Check that all arrays have consistent first dimensions.\u001b[39;00m\n\u001b[1;32m    395\u001b[0m \n\u001b[1;32m    396\u001b[0m \u001b[39m    Checks whether all objects in arrays have the same shape or length.\u001b[39;00m\n\u001b[0;32m   (...)\u001b[0m\n\u001b[1;32m    401\u001b[0m \u001b[39m        Objects that will be checked for consistent length.\u001b[39;00m\n\u001b[1;32m    402\u001b[0m \u001b[39m    \"\"\"\u001b[39;00m\n\u001b[0;32m--> 404\u001b[0m     lengths \u001b[39m=\u001b[39m [_num_samples(X) \u001b[39mfor\u001b[39;00m X \u001b[39min\u001b[39;00m arrays \u001b[39mif\u001b[39;00m X \u001b[39mis\u001b[39;00m \u001b[39mnot\u001b[39;00m \u001b[39mNone\u001b[39;00m]\n\u001b[1;32m    405\u001b[0m     uniques \u001b[39m=\u001b[39m np\u001b[39m.\u001b[39munique(lengths)\n\u001b[1;32m    406\u001b[0m     \u001b[39mif\u001b[39;00m \u001b[39mlen\u001b[39m(uniques) \u001b[39m>\u001b[39m \u001b[39m1\u001b[39m:\n",
      "File \u001b[0;32m~/anaconda3/envs/embryo_segmentation/lib/python3.10/site-packages/sklearn/utils/validation.py:404\u001b[0m, in \u001b[0;36m<listcomp>\u001b[0;34m(.0)\u001b[0m\n\u001b[1;32m    393\u001b[0m \u001b[39mdef\u001b[39;00m \u001b[39mcheck_consistent_length\u001b[39m(\u001b[39m*\u001b[39marrays):\n\u001b[1;32m    394\u001b[0m \u001b[39m    \u001b[39m\u001b[39m\"\"\"Check that all arrays have consistent first dimensions.\u001b[39;00m\n\u001b[1;32m    395\u001b[0m \n\u001b[1;32m    396\u001b[0m \u001b[39m    Checks whether all objects in arrays have the same shape or length.\u001b[39;00m\n\u001b[0;32m   (...)\u001b[0m\n\u001b[1;32m    401\u001b[0m \u001b[39m        Objects that will be checked for consistent length.\u001b[39;00m\n\u001b[1;32m    402\u001b[0m \u001b[39m    \"\"\"\u001b[39;00m\n\u001b[0;32m--> 404\u001b[0m     lengths \u001b[39m=\u001b[39m [_num_samples(X) \u001b[39mfor\u001b[39;00m X \u001b[39min\u001b[39;00m arrays \u001b[39mif\u001b[39;00m X \u001b[39mis\u001b[39;00m \u001b[39mnot\u001b[39;00m \u001b[39mNone\u001b[39;00m]\n\u001b[1;32m    405\u001b[0m     uniques \u001b[39m=\u001b[39m np\u001b[39m.\u001b[39munique(lengths)\n\u001b[1;32m    406\u001b[0m     \u001b[39mif\u001b[39;00m \u001b[39mlen\u001b[39m(uniques) \u001b[39m>\u001b[39m \u001b[39m1\u001b[39m:\n",
      "File \u001b[0;32m~/anaconda3/envs/embryo_segmentation/lib/python3.10/site-packages/sklearn/utils/validation.py:356\u001b[0m, in \u001b[0;36m_num_samples\u001b[0;34m(x)\u001b[0m\n\u001b[1;32m    354\u001b[0m     \u001b[39mreturn\u001b[39;00m \u001b[39mlen\u001b[39m(x)\n\u001b[1;32m    355\u001b[0m \u001b[39mexcept\u001b[39;00m \u001b[39mTypeError\u001b[39;00m \u001b[39mas\u001b[39;00m type_error:\n\u001b[0;32m--> 356\u001b[0m     \u001b[39mraise\u001b[39;00m \u001b[39mTypeError\u001b[39;00m(message) \u001b[39mfrom\u001b[39;00m \u001b[39mtype_error\u001b[39;00m\n",
      "\u001b[0;31mTypeError\u001b[0m: Expected sequence or array-like, got <class 'type'>"
     ]
    }
   ],
   "source": [
    "# Crea un objeto KFold para dividir tus datos\n",
    "kf = KFold(n_splits=num_folds, shuffle=True)\n",
    "\n",
    "# Creación del modelo elegido\n",
    "model = get_pretrained_model(model_name)\n",
    "\n",
    "# Resto del código para el entrenamiento\n",
    "device = torch.device('cuda' if torch.cuda.is_available() else 'cpu')\n",
    "model.to(device)\n",
    "\n",
    "# Seleccionar el optimizador\n",
    "optimizer = optim.Adam(model.parameters(), lr=learning_rate)\n",
    "\n",
    "# Loop sobre los pliegues (folds)\n",
    "for fold, (train_index, val_index) in enumerate(kf.split(EmbryoDataset)):\n",
    "    print(f\"Fold {fold + 1}/{num_folds}\")\n",
    "\n",
    "    loader_train, loader_val = create_dataloaders(labels, selected_index, train_index, val_index)\n",
    "\n",
    "    train_loss, train_acc = train_one_epoch(model, optimizer, loader_train, device)\n",
    "    print(f\"Epoch [{fold + 1}/{num_epochs}], Train Loss: {train_loss:.4f}, Train Acc: {train_acc:.4f}\")\n",
    "\n",
    "    val_acc = accuracy(loader_val, model, device)\n",
    "    print(f\"Epoch [{fold + 1}/{num_epochs}], Validation Acc: {val_acc:.4f}\")\n"
   ]
  }
 ],
 "metadata": {
  "kernelspec": {
   "display_name": "embryo_segmentation",
   "language": "python",
   "name": "python3"
  },
  "language_info": {
   "codemirror_mode": {
    "name": "ipython",
    "version": 3
   },
   "file_extension": ".py",
   "mimetype": "text/x-python",
   "name": "python",
   "nbconvert_exporter": "python",
   "pygments_lexer": "ipython3",
   "version": "3.10.12"
  }
 },
 "nbformat": 4,
 "nbformat_minor": 2
}
